{
 "cells": [
  {
   "cell_type": "code",
   "execution_count": 5,
   "metadata": {},
   "outputs": [],
   "source": [
    "import tkinter as tk\n",
    "import matplotlib\n",
    "matplotlib.use('TkAgg')\n",
    "from matplotlib.backends.backend_tkagg import FigureCanvasTkAgg\n",
    "from matplotlib.figure import Figure\n",
    "import pandas as pd"
   ]
  },
  {
   "cell_type": "code",
   "execution_count": 6,
   "metadata": {},
   "outputs": [
    {
     "data": {
      "text/plain": [
       "''"
      ]
     },
     "execution_count": 6,
     "metadata": {},
     "output_type": "execute_result"
    }
   ],
   "source": [
    "window=tk.Tk()\n",
    "window.title('Ocsvm')\n",
    "window.geometry('2000x800')"
   ]
  },
  {
   "cell_type": "code",
   "execution_count": 7,
   "metadata": {},
   "outputs": [],
   "source": [
    "#框架\n",
    "frm = tk.Frame(window)\n",
    "frm.pack()\n",
    "frm_l=tk.Frame(frm )\n",
    "frm_r=tk.Frame(frm)\n",
    "frm_r1=tk.Frame(frm_r)\n",
    "frm_r2=tk.Frame(frm_r)\n",
    "frm_r1t=tk.Frame(frm_r1)\n",
    "frm_r1b=tk.Frame(frm_r1)\n",
    "frm_r2t=tk.Frame(frm_r2)\n",
    "frm_r2b=tk.Frame(frm_r2)\n",
    "\n",
    "frm_l.pack(side='left')\n",
    "frm_r.pack(side='right')\n",
    "frm_r1.pack(side='left')\n",
    "frm_r2.pack(side='right')\n",
    "frm_r1t.pack(side='top')\n",
    "frm_r1b.pack(side='bottom')\n",
    "frm_r2t.pack(side='top')\n",
    "frm_r2b.pack(side='bottom')\n",
    "\n",
    "tk.Label(frm_l, text='data').pack()\n",
    "tk.Label(frm_r1t, text='波形グラフ').pack()\n",
    "tk.Label(frm_r1b, text='ijyodo').pack()\n",
    "tk.Label(frm_r2t, text='sanbu').pack()\n",
    "tk.Label(frm_r2b, text='parameters').pack()"
   ]
  },
  {
   "cell_type": "code",
   "execution_count": 4,
   "metadata": {},
   "outputs": [
    {
     "ename": "SyntaxError",
     "evalue": "invalid syntax (<ipython-input-4-0600cac78475>, line 5)",
     "output_type": "error",
     "traceback": [
      "\u001b[1;36m  File \u001b[1;32m\"<ipython-input-4-0600cac78475>\"\u001b[1;36m, line \u001b[1;32m5\u001b[0m\n\u001b[1;33m    tk.\u001b[0m\n\u001b[1;37m       ^\u001b[0m\n\u001b[1;31mSyntaxError\u001b[0m\u001b[1;31m:\u001b[0m invalid syntax\n"
     ]
    }
   ],
   "source": [
    "def readyCsv(data):\n",
    "    df=pd.read_csv('C:\\lab\\SVM\\dataall.csv')\n",
    "    data=dataall.iloc[:,[1,2,3,4,5,6,7,8,9,10,11,12]]\n",
    "    return data\n",
    "tk.\n"
   ]
  },
  {
   "cell_type": "code",
   "execution_count": null,
   "metadata": {},
   "outputs": [],
   "source": []
  },
  {
   "cell_type": "code",
   "execution_count": 8,
   "metadata": {},
   "outputs": [],
   "source": [
    "window.mainloop()"
   ]
  },
  {
   "cell_type": "code",
   "execution_count": null,
   "metadata": {},
   "outputs": [],
   "source": []
  }
 ],
 "metadata": {
  "kernelspec": {
   "display_name": "Python 3",
   "language": "python",
   "name": "python3"
  },
  "language_info": {
   "codemirror_mode": {
    "name": "ipython",
    "version": 3
   },
   "file_extension": ".py",
   "mimetype": "text/x-python",
   "name": "python",
   "nbconvert_exporter": "python",
   "pygments_lexer": "ipython3",
   "version": "3.7.1"
  }
 },
 "nbformat": 4,
 "nbformat_minor": 2
}
