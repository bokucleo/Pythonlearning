{
 "cells": [
  {
   "cell_type": "code",
   "execution_count": 35,
   "metadata": {},
   "outputs": [
    {
     "name": "stdout",
     "output_type": "stream",
     "text": [
      "filesize：0.00 MB\n"
     ]
    }
   ],
   "source": [
    "import os\n",
    " \n",
    "def get_FileSize(filePath):\n",
    " \n",
    "    fsize = os.path.getsize(filePath)\n",
    "    fsize = fsize/float(1024 * 1024)\n",
    "    \n",
    "    return round(fsize, 4)\n",
    " \n",
    "if __name__ == '__main__':\n",
    "    size = get_FileSize(r\"C:\\Users\\bokuc\\Documents\\111.txt\")\n",
    "    print(\"filesize：%.2f MB\"%(size))\n",
    "    pass\n"
   ]
  },
  {
   "cell_type": "code",
   "execution_count": 54,
   "metadata": {},
   "outputs": [
    {
     "name": "stdout",
     "output_type": "stream",
     "text": [
      "filesiz：0.000000 MB,time:2019-08-07 21:20:37.\n"
     ]
    }
   ],
   "source": [
    "import time\n",
    "import datetime\n",
    "\n",
    "def TimeStampToTime(timestamp):\n",
    "    timeStruct = time.localtime(timestamp)\n",
    "    return time.strftime('%Y-%m-%d %H:%M:%S',timeStruct)\n",
    "\n",
    "def get_FileSize(filePath):\n",
    " \n",
    "    fsize = os.path.getsize(filePath)\n",
    "    fsize = fsize/float(1024 * 1024)\n",
    "    return round(fsize, )\n",
    "\n",
    "def get_FileAccessTime(filePath):\n",
    "    t = os.path.getmtime(filePath)\n",
    "    return TimeStampToTime(t)\n",
    " \n",
    "if __name__ == '__main__':\n",
    "    size = get_FileSize(r\"C:\\Users\\bokuc\\Documents\\111.txt\")\n",
    "    time=get_FileAccessTime(r\"C:\\Users\\bokuc\\Documents\\111.txt\")\n",
    "    print(\"filesiz：%f MB,time:%s.\"%(size,time))\n",
    "    pass\n"
   ]
  },
  {
   "cell_type": "code",
   "execution_count": 21,
   "metadata": {},
   "outputs": [],
   "source": [
    "from threading import Timer\n",
    "from datetime import datetime\n",
    "\n",
    "def timedTask():\n",
    "    '''\n",
    "    第一个参数: 延迟多长时间执行任务(单位: 秒)\n",
    "    第二个参数: 要执行的任务, 即函数\n",
    "    第三个参数: 调用函数的参数(tuple)\n",
    "    '''\n",
    "    Timer(10, task, ()).start()\n",
    "\n",
    "# 定时任务\n",
    "def task():\n",
    "    print(datetime.now().strftime(\"%Y-%m-%d %H:%M:%S\"))\n",
    "\n",
    "if __name__ == '__main__':\n",
    "    timedTask()\n",
    "    while True:\n",
    "        print(time.time())\n",
    "        time.sleep(5)\n"
   ]
  },
  {
   "cell_type": "code",
   "execution_count": 1,
   "metadata": {},
   "outputs": [
    {
     "ename": "IndentationError",
     "evalue": "expected an indented block (<ipython-input-1-37fd44deeead>, line 28)",
     "output_type": "error",
     "traceback": [
      "\u001b[1;36m  File \u001b[1;32m\"<ipython-input-1-37fd44deeead>\"\u001b[1;36m, line \u001b[1;32m28\u001b[0m\n\u001b[1;33m    filePath= r\"C:\\Users\\bokuc\\Documents\\111.txt\"\u001b[0m\n\u001b[1;37m           ^\u001b[0m\n\u001b[1;31mIndentationError\u001b[0m\u001b[1;31m:\u001b[0m expected an indented block\n"
     ]
    }
   ],
   "source": [
    "from threading import Timer\n",
    "from datetime import datetime\n",
    "import time\n",
    "import datetime\n",
    "import os\n",
    "\n",
    "\n",
    "def TimeStampToTime(timestamp):\n",
    "    timeStruct = time.localtime(timestamp)\n",
    "    return time.strftime('%Y-%m-%d %H:%M:%S',timeStruct)\n",
    "\n",
    "def timedTask():\n",
    "    '''\n",
    "    第一个参数: 延迟多长时间执行任务(单位: 秒)\n",
    "    第二个参数: 要执行的任务, 即函数\n",
    "    第三个参数: 调用函数的参数(tuple)\n",
    "    '''\n",
    "    Timer(10, task, ()).start()\n",
    "\n",
    "def task(filePath):\n",
    "    fsize = os.path.getsize(filePath)\n",
    "    fsize = fsize/float(1024 * 1024)\n",
    "    time= os.path.getmtime(filePath)\n",
    "    time= TimeStampToTime(time)\n",
    "    print(\"filesiz：%f MB,time:%s.\"%f(fsize,time))\n",
    "    \n",
    "if __name__ == '__main__':\n",
    "filePath= r\"C:\\Users\\bokuc\\Documents\\111.txt\"  \n",
    "timedTask()\n",
    "\n",
    "   "
   ]
  },
  {
   "cell_type": "code",
   "execution_count": 2,
   "metadata": {},
   "outputs": [
    {
     "name": "stdout",
     "output_type": "stream",
     "text": [
      "filesiz：0.000004 MB,filemodifytime:2019-08-07 21:20:37.\n",
      "filesiz：0.000004 MB,filemodifytime:2019-08-07 21:20:37.\n",
      "filesiz：0.000004 MB,filemodifytime:2019-08-07 21:20:37.\n",
      "filesiz：0.000004 MB,filemodifytime:2019-08-07 21:20:37.\n",
      "filesiz：0.000004 MB,filemodifytime:2019-08-07 21:20:37.\n",
      "filesiz：0.000004 MB,filemodifytime:2019-08-07 21:20:37.\n"
     ]
    }
   ],
   "source": [
    "from threading import Timer\n",
    "from datetime import datetime\n",
    "import time\n",
    "import datetime\n",
    "import os\n",
    "\n",
    "\n",
    "def TimeStampToTime(timestamp):\n",
    "    timeStruct = time.localtime(timestamp)\n",
    "    return time.strftime('%Y-%m-%d %H:%M:%S',timeStruct)\n",
    "\n",
    "def task():\n",
    "    fsize = os.path.getsize(r\"C:\\Users\\bokuc\\Documents\\111.txt\")\n",
    "    fsize = fsize/float(1024 * 1024)\n",
    "    time= os.path.getmtime(r\"C:\\Users\\bokuc\\Documents\\111.txt\") #输出最近修改时间\n",
    "    time= TimeStampToTime(time)\n",
    "    print(\"filesiz：%f MB,filemodifytime:%s.\"%(fsize,time))\n",
    "\n",
    "    global timer\n",
    "    # 10秒调用函数一次\n",
    "    timer = Timer(10, task)\n",
    "    # 启用定时器\n",
    "    timer.start()\n",
    " \n",
    "if __name__ == '__main__':\n",
    "    task()\n"
   ]
  },
  {
   "cell_type": "code",
   "execution_count": 3,
   "metadata": {},
   "outputs": [
    {
     "ename": "SyntaxError",
     "evalue": "invalid character in identifier (<ipython-input-3-08ba459f2d42>, line 1)",
     "output_type": "error",
     "traceback": [
      "\u001b[1;36m  File \u001b[1;32m\"<ipython-input-3-08ba459f2d42>\"\u001b[1;36m, line \u001b[1;32m1\u001b[0m\n\u001b[1;33m    start = datetime.strptime(‘2019-01-01’, ‘%Y-%m-%d’).date()\u001b[0m\n\u001b[1;37m                                  ^\u001b[0m\n\u001b[1;31mSyntaxError\u001b[0m\u001b[1;31m:\u001b[0m invalid character in identifier\n"
     ]
    },
    {
     "name": "stdout",
     "output_type": "stream",
     "text": [
      "filesiz：0.000004 MB,filemodifytime:2019-08-07 21:20:37.\n",
      "filesiz：0.000004 MB,filemodifytime:2019-08-07 21:20:37.\n"
     ]
    }
   ],
   "source": [
    "\n"
   ]
  },
  {
   "cell_type": "code",
   "execution_count": 48,
   "metadata": {},
   "outputs": [
    {
     "name": "stdout",
     "output_type": "stream",
     "text": [
      "filesiz：0.000004 MB,time:2019-08-07 21:20:37.\n"
     ]
    }
   ],
   "source": []
  },
  {
   "cell_type": "code",
   "execution_count": 66,
   "metadata": {},
   "outputs": [],
   "source": [
    "\n",
    "\n",
    "  "
   ]
  },
  {
   "cell_type": "code",
   "execution_count": 61,
   "metadata": {},
   "outputs": [
    {
     "ename": "SyntaxError",
     "evalue": "invalid syntax (<ipython-input-61-696386a7d083>, line 1)",
     "output_type": "error",
     "traceback": [
      "\u001b[1;36m  File \u001b[1;32m\"<ipython-input-61-696386a7d083>\"\u001b[1;36m, line \u001b[1;32m1\u001b[0m\n\u001b[1;33m    conda info -e\u001b[0m\n\u001b[1;37m             ^\u001b[0m\n\u001b[1;31mSyntaxError\u001b[0m\u001b[1;31m:\u001b[0m invalid syntax\n"
     ]
    }
   ],
   "source": [
    "\n"
   ]
  },
  {
   "cell_type": "code",
   "execution_count": null,
   "metadata": {},
   "outputs": [],
   "source": []
  }
 ],
 "metadata": {
  "kernelspec": {
   "display_name": "Python 3",
   "language": "python",
   "name": "python3"
  },
  "language_info": {
   "codemirror_mode": {
    "name": "ipython",
    "version": 3
   },
   "file_extension": ".py",
   "mimetype": "text/x-python",
   "name": "python",
   "nbconvert_exporter": "python",
   "pygments_lexer": "ipython3",
   "version": "3.7.1"
  }
 },
 "nbformat": 4,
 "nbformat_minor": 2
}
